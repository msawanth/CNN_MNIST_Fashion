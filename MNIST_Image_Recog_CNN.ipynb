{
  "nbformat": 4,
  "nbformat_minor": 0,
  "metadata": {
    "colab": {
      "name": "MNIST_Image_Recog_CNN.ipynb",
      "version": "0.3.2",
      "provenance": [],
      "collapsed_sections": []
    },
    "kernelspec": {
      "name": "python3",
      "display_name": "Python 3"
    },
    "accelerator": "GPU"
  },
  "cells": [
    {
      "metadata": {
        "id": "JUfWpAPnfrg7",
        "colab_type": "code",
        "outputId": "e59e92b7-6d8e-4443-fbbd-70c539408fdd",
        "colab": {
          "base_uri": "https://localhost:8080/",
          "height": 51
        }
      },
      "cell_type": "code",
      "source": [
        "#Step 1 - Importing TF, Keras, Numpy and Matplotlib\n",
        "\n",
        "from __future__ import print_function\n",
        "\n",
        "# TensorFlow and tf.keras\n",
        "import keras\n",
        "import tensorflow as tf\n",
        "from tensorflow import keras\n",
        "from keras.layers import Conv2D, MaxPool2D, Flatten\n",
        "from keras.layers import Dense, Dropout\n",
        "\n",
        "\n",
        "# Helper libraries\n",
        "import numpy as np\n",
        "import matplotlib.pyplot as plt\n",
        "from keras.utils import to_categorical\n",
        "import matplotlib.pyplot as plt\n",
        "\n",
        "print(tf.__version__)\n",
        "print(keras.__version__)"
      ],
      "execution_count": 21,
      "outputs": [
        {
          "output_type": "stream",
          "text": [
            "1.13.1\n",
            "2.2.4-tf\n"
          ],
          "name": "stdout"
        }
      ]
    },
    {
      "metadata": {
        "id": "YLgBd7tvidQx",
        "colab_type": "code",
        "colab": {}
      },
      "cell_type": "code",
      "source": [
        "# Step - 2: Accessing the dataset from Keras\n",
        "# Alternatively use \"from keras.datasets import fashion_mnist\"\n",
        "# Dataset is downloaded from Keras git repo \"https://github.com/keras-team/keras/tree/master/keras/datasets\"\n",
        "# Dataset is already split into Train and Test\n",
        "\n",
        "fashion_mnist = keras.datasets.fashion_mnist\n",
        "(train_images, train_labels), (test_images, test_labels) = fashion_mnist.load_data()"
      ],
      "execution_count": 0,
      "outputs": []
    },
    {
      "metadata": {
        "id": "tDymZrAggAYg",
        "colab_type": "code",
        "colab": {
          "base_uri": "https://localhost:8080/",
          "height": 286
        },
        "outputId": "f1e716de-aaa7-4abb-c109-f3dfe0437e51"
      },
      "cell_type": "code",
      "source": [
        "#Displays the images from 'test_images'\n",
        "\n",
        "plt.figure()\n",
        "plt.imshow(test_images[132])\n",
        "plt.colorbar()\n",
        "plt.grid(False)\n",
        "plt.show"
      ],
      "execution_count": 23,
      "outputs": [
        {
          "output_type": "execute_result",
          "data": {
            "text/plain": [
              "<function matplotlib.pyplot.show>"
            ]
          },
          "metadata": {
            "tags": []
          },
          "execution_count": 23
        },
        {
          "output_type": "display_data",
          "data": {
            "image/png": "[encoded data removed]",
            "text/plain": [
              "<Figure size 432x288 with 2 Axes>"
            ]
          },
          "metadata": {
            "tags": []
          }
        }
      ]
    },
    {
      "metadata": {
        "id": "DdmRjNhJjhdm",
        "colab_type": "code",
        "colab": {}
      },
      "cell_type": "code",
      "source": [
        "# Naming Class labels for 0 to 9\n",
        "\n",
        "class_names = ['T-shirt/top', 'Trouser', 'Pullover', 'Dress', 'Coat', \n",
        "               'Sandal', 'Shirt', 'Sneaker', 'Bag', 'Ankle boot']"
      ],
      "execution_count": 0,
      "outputs": []
    },
    {
      "metadata": {
        "id": "uCGrzvHqe_JN",
        "colab_type": "code",
        "colab": {}
      },
      "cell_type": "code",
      "source": [
        "#Building model\n",
        "\n",
        "model = keras.models.Sequential([\n",
        "    keras.layers.Conv2D(32, (5, 5), padding=\"same\", input_shape=[28, 28, 1]),\n",
        "    keras.layers.MaxPool2D((2,2)),\n",
        "    keras.layers.Conv2D(64, (5, 5), padding=\"same\"),\n",
        "    keras.layers.MaxPool2D((2,2)),\n",
        "    keras.layers.Flatten(),\n",
        "    keras.layers.Dense(1024, activation='relu'),\n",
        "    keras.layers.Dropout(0.5),\n",
        "    keras.layers.Dense(10, activation='softmax')\n",
        "])"
      ],
      "execution_count": 0,
      "outputs": []
    },
    {
      "metadata": {
        "id": "mwfLep_-fiO2",
        "colab_type": "code",
        "colab": {
          "base_uri": "https://localhost:8080/",
          "height": 34
        },
        "outputId": "556c094e-bda3-49bb-87e6-8ff92a863412"
      },
      "cell_type": "code",
      "source": [
        "train_images.shape"
      ],
      "execution_count": 26,
      "outputs": [
        {
          "output_type": "execute_result",
          "data": {
            "text/plain": [
              "(60000, 28, 28)"
            ]
          },
          "metadata": {
            "tags": []
          },
          "execution_count": 26
        }
      ]
    },
    {
      "metadata": {
        "id": "jEnvx1Sxf4j0",
        "colab_type": "code",
        "colab": {},
        "cellView": "code"
      },
      "cell_type": "code",
      "source": [
        "#Reshaping 'train_images' and 'test_images' to a 4D images to pass into Conv2D CNN algorithm\n",
        "\n",
        "train_images = train_images.reshape([-1,28,28,1])\n",
        "test_images = test_images.reshape([-1,28,28,1])\n",
        "\n",
        "# To normalise, divide the image by 255\n",
        "# Refer \"https://stackoverflow.com/questions/695084/how-do-i-normalize-an-image\"\n",
        "\n",
        "train_images = train_images / 255.0\n",
        "test_images = test_images / 255.0"
      ],
      "execution_count": 0,
      "outputs": []
    },
    {
      "metadata": {
        "id": "MCfhrNPRjmFN",
        "colab_type": "code",
        "colab": {}
      },
      "cell_type": "code",
      "source": [
        "#from keras.utils import np_utils\n",
        "#Converting labels to 'One Hot Encoding' to pass it to CNN model\n",
        "#Read about One Hot Encoding here - https://machinelearningmastery.com/how-to-one-hot-encode-sequence-data-in-python/\n",
        "\n",
        "train_labels = to_categorical(train_labels)\n",
        "test_labels = to_categorical(test_labels)\n",
        "#print(train_labels)\n",
        "#print(test_labels)"
      ],
      "execution_count": 0,
      "outputs": []
    },
    {
      "metadata": {
        "id": "xPHQWnhj8b4n",
        "colab_type": "code",
        "colab": {
          "base_uri": "https://localhost:8080/",
          "height": 221
        },
        "outputId": "84f4919d-aaa7-4e99-9804-7c8d89f48abc"
      },
      "cell_type": "code",
      "source": [
        "#Compile the model and fit the process train_images and test_images on the model\n",
        "\n",
        "model.compile(keras.optimizers.Adam(1e-4), loss='categorical_crossentropy', metrics=['accuracy'])\n",
        "model.fit(train_images, train_labels, validation_split=0.10, batch_size=128, epochs=5, verbose=2)"
      ],
      "execution_count": 29,
      "outputs": [
        {
          "output_type": "stream",
          "text": [
            "Train on 54000 samples, validate on 6000 samples\n",
            "Epoch 1/5\n",
            " - 4s - loss: 0.6666 - acc: 0.7745 - val_loss: 0.4513 - val_acc: 0.8368\n",
            "Epoch 2/5\n",
            " - 3s - loss: 0.4216 - acc: 0.8515 - val_loss: 0.3851 - val_acc: 0.8635\n",
            "Epoch 3/5\n",
            " - 3s - loss: 0.3693 - acc: 0.8701 - val_loss: 0.3512 - val_acc: 0.8742\n",
            "Epoch 4/5\n",
            " - 3s - loss: 0.3402 - acc: 0.8795 - val_loss: 0.3191 - val_acc: 0.8860\n",
            "Epoch 5/5\n",
            " - 3s - loss: 0.3159 - acc: 0.8867 - val_loss: 0.3036 - val_acc: 0.8907\n"
          ],
          "name": "stdout"
        },
        {
          "output_type": "execute_result",
          "data": {
            "text/plain": [
              "<tensorflow.python.keras.callbacks.History at 0x7f8b95f148d0>"
            ]
          },
          "metadata": {
            "tags": []
          },
          "execution_count": 29
        }
      ]
    },
    {
      "metadata": {
        "id": "FQiOxoE492sT",
        "colab_type": "code",
        "colab": {
          "base_uri": "https://localhost:8080/",
          "height": 68
        },
        "outputId": "35fb335d-3dcf-46c5-864b-ac427d879b28"
      },
      "cell_type": "code",
      "source": [
        "#Predicting the images from the 'test_images' using 'predict' method\n",
        "#More the probablity of the image in the list, closer the chances of the image being true\n",
        "\n",
        "predictions = model.predict(test_images)\n",
        "predictions[400]"
      ],
      "execution_count": 32,
      "outputs": [
        {
          "output_type": "execute_result",
          "data": {
            "text/plain": [
              "array([9.9326777e-01, 6.4661083e-07, 3.3545122e-05, 1.8936399e-04,\n",
              "       1.2869765e-07, 1.2668762e-07, 6.5076253e-03, 5.5215161e-09,\n",
              "       8.5676476e-07, 9.8464712e-09], dtype=float32)"
            ]
          },
          "metadata": {
            "tags": []
          },
          "execution_count": 32
        }
      ]
    },
    {
      "metadata": {
        "id": "jzTCTNQ535VN",
        "colab_type": "code",
        "colab": {
          "base_uri": "https://localhost:8080/",
          "height": 34
        },
        "outputId": "5b1420b5-05ed-4948-e2de-e0df2fd96c80"
      },
      "cell_type": "code",
      "source": [
        "print(test_labels[400])"
      ],
      "execution_count": 37,
      "outputs": [
        {
          "output_type": "stream",
          "text": [
            "[1. 0. 0. 0. 0. 0. 0. 0. 0. 0.]\n"
          ],
          "name": "stdout"
        }
      ]
    }
  ]
}